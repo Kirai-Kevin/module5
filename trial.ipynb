{
 "cells": [
  {
   "cell_type": "code",
   "execution_count": 8,
   "metadata": {},
   "outputs": [
    {
     "name": "stdout",
     "output_type": "stream",
     "text": [
      "hi\n"
     ]
    }
   ],
   "source": [
    "async def hi():\n",
    "    print(\"hi\")\n",
    "\n",
    "await hi()"
   ]
  },
  {
   "cell_type": "code",
   "execution_count": 9,
   "metadata": {},
   "outputs": [],
   "source": [
    "#!pip install nest_asyncio\n"
   ]
  },
  {
   "cell_type": "code",
   "execution_count": 10,
   "metadata": {},
   "outputs": [
    {
     "name": "stdout",
     "output_type": "stream",
     "text": [
      "hi\n"
     ]
    }
   ],
   "source": [
    "import asyncio\n",
    "\n",
    "async def hi():\n",
    "    print(\"hi\")\n",
    "\n",
    "async def main():\n",
    "    await hi()\n",
    "\n",
    "import asyncio\n",
    "asyncio.run(main())"
   ]
  },
  {
   "cell_type": "code",
   "execution_count": 11,
   "metadata": {},
   "outputs": [
    {
     "name": "stdout",
     "output_type": "stream",
     "text": [
      "Hi after 1\n",
      "Hi after 5\n"
     ]
    }
   ],
   "source": [
    "import asyncio\n",
    "\n",
    "async def delayed_hi(seconds: int):\n",
    "    await asyncio.sleep(seconds)\n",
    "    print(f\"Hi after {seconds}\")\n",
    "\n",
    "async def main():\n",
    "    await asyncio.gather(\n",
    "        delayed_hi(1),\n",
    "        delayed_hi(5),\n",
    "        # delayed_hi(4),\n",
    "    )\n",
    "\n",
    "asyncio.run(main())"
   ]
  },
  {
   "cell_type": "code",
   "execution_count": 12,
   "metadata": {},
   "outputs": [
    {
     "name": "stdout",
     "output_type": "stream",
     "text": [
      "Hi after 1\n",
      "Bye after 2\n",
      "Hi after 4\n",
      "Hi after 5\n"
     ]
    }
   ],
   "source": [
    "import asyncio\n",
    "\n",
    "async def delayed_hi(seconds: int):\n",
    "    await asyncio.sleep(seconds)\n",
    "    print(f\"Hi after {seconds}\")\n",
    "\n",
    "# Create a new async function\n",
    "async def delayed_bye(seconds: int):\n",
    "    await asyncio.sleep(seconds)\n",
    "    print(f\"Bye after {seconds}\")\n",
    "\n",
    "async def main():\n",
    "    await asyncio.gather(\n",
    "        delayed_hi(1),\n",
    "        delayed_hi(5),\n",
    "        delayed_hi(4),  # Uncommented line\n",
    "        delayed_bye(2)  # Added new async function\n",
    "    )\n",
    "\n",
    "asyncio.run(main())\n"
   ]
  },
  {
   "cell_type": "code",
   "execution_count": null,
   "metadata": {},
   "outputs": [],
   "source": []
  }
 ],
 "metadata": {
  "kernelspec": {
   "display_name": ".venv",
   "language": "python",
   "name": "python3"
  },
  "language_info": {
   "codemirror_mode": {
    "name": "ipython",
    "version": 3
   },
   "file_extension": ".py",
   "mimetype": "text/x-python",
   "name": "python",
   "nbconvert_exporter": "python",
   "pygments_lexer": "ipython3",
   "version": "3.11.9"
  }
 },
 "nbformat": 4,
 "nbformat_minor": 2
}
